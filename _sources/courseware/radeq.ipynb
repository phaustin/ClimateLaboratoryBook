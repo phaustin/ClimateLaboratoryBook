{
 "cells": [
  {
   "cell_type": "markdown",
   "id": "0727690e",
   "metadata": {
    "slideshow": {
     "slide_type": "slide"
    }
   },
   "source": [
    "(nb:radeq)=\n",
    "# Radiative Equilibrium\n",
    "\n",
    "This notebook is part of [The Climate Laboratory](https://brian-rose.github.io/ClimateLaboratoryBook) by [Brian E. J. Rose](http://www.atmos.albany.edu/facstaff/brose/index.html), University at Albany."
   ]
  },
  {
   "cell_type": "markdown",
   "id": "c945723a",
   "metadata": {},
   "source": [
    "____________\n",
    "<a id='section1'></a>\n",
    "\n",
    "## 1. The observed annual, global mean temperature profile\n",
    "____________\n",
    "\n",
    "Let's look again the observations of air temperature from the NCEP Reanalysis data we first encountered in the [Radiation notes](https://brian-rose.github.io/ClimateLaboratoryBook/courseware/radiation.html).\n",
    "\n",
    "In this notebook  we'll define a function to create the Skew-T diagram, because later we are going to reuse it several times.\n",
    "\n",
    "*Click to expand code cells to see Python details*"
   ]
  },
  {
   "cell_type": "code",
   "execution_count": null,
   "id": "61940b0d",
   "metadata": {
    "tags": [
     "hide_input"
    ]
   },
   "outputs": [],
   "source": [
    "#  This code is used just to create the skew-T plot of global, annual mean air temperature\n",
    "%matplotlib inline\n",
    "import numpy as np\n",
    "import matplotlib.pyplot as plt\n",
    "import xarray as xr\n",
    "from metpy.plots import SkewT\n",
    "ncep_url = \"http://www.esrl.noaa.gov/psd/thredds/dodsC/Datasets/ncep.reanalysis.derived/\"\n",
    "ncep_air = xr.open_dataset( ncep_url + \"pressure/air.mon.1981-2010.ltm.nc\", use_cftime=True)\n",
    "#  Take global, annual average \n",
    "coslat = np.cos(np.deg2rad(ncep_air.lat))\n",
    "weight = coslat / coslat.mean(dim='lat')\n",
    "Tglobal = (ncep_air.air * weight).mean(dim=('lat','lon','time'))"
   ]
  },
  {
   "cell_type": "code",
   "execution_count": null,
   "id": "81ed7fa5",
   "metadata": {
    "tags": [
     "hide_input"
    ]
   },
   "outputs": [],
   "source": [
    "def make_skewT():\n",
    "    fig = plt.figure(figsize=(9, 9))\n",
    "    skew = SkewT(fig, rotation=30)\n",
    "    skew.plot(Tglobal.level, Tglobal, color='black', linestyle='-', linewidth=2, label='Observations')\n",
    "    skew.ax.set_ylim(1050, 10)\n",
    "    skew.ax.set_xlim(-90, 45)\n",
    "    # Add the relevant special lines\n",
    "    skew.plot_dry_adiabats(linewidth=0.5)\n",
    "    skew.plot_moist_adiabats(linewidth=0.5)\n",
    "    #skew.plot_mixing_lines()\n",
    "    skew.ax.legend()\n",
    "    skew.ax.set_xlabel('Temperature (degC)', fontsize=14)\n",
    "    skew.ax.set_ylabel('Pressure (hPa)', fontsize=14)\n",
    "    return skew"
   ]
  },
  {
   "cell_type": "code",
   "execution_count": null,
   "id": "54e5beda",
   "metadata": {
    "tags": [
     "hide_input"
    ]
   },
   "outputs": [],
   "source": [
    "skew = make_skewT()"
   ]
  },
  {
   "cell_type": "markdown",
   "id": "83782153",
   "metadata": {},
   "source": [
    "Here we are going to work with some detailed **Single-Column Models** to understand questions such as\n",
    "\n",
    "- What physical factors actually determine this profile? \n",
    "- Would the profile be different with different gases in the atmosphere?\n",
    "- What are the relative roles of **radiation** and **dynamics** (i.e. motion!) in setting this profile?\n",
    "\n",
    "We will start by **ignoring all processes except radiation**. We will calculate something called the **radiative equilibrium** temperature."
   ]
  },
  {
   "cell_type": "markdown",
   "id": "45d4ea65",
   "metadata": {},
   "source": [
    "____________\n",
    "\n",
    "## 2. Radiative equilibrium -- the concept\n",
    "____________"
   ]
  },
  {
   "cell_type": "markdown",
   "id": "eea54cb6",
   "metadata": {},
   "source": [
    "Models of radiative transfer slice up the atmospheric air column into a series of layer, and calculate the **emission** and **absorption** of radiation within each layer.\n",
    "\n",
    "It's really just a generalization of the model we already looked at:"
   ]
  },
  {
   "cell_type": "markdown",
   "id": "5042b04e",
   "metadata": {},
   "source": [
    "![Sketch of layer model](http://www.atmos.albany.edu/facstaff/brose/classes/ENV415_Spring2018/images/2layerAtm_sketch.png)"
   ]
  },
  {
   "cell_type": "markdown",
   "id": "c5451a7c",
   "metadata": {},
   "source": [
    "The concept of **radiative equilibrium** means that we **ignore all methods of heat exchange except for radiation**, and ask what temperature profile would exist under that assumption?\n",
    "\n",
    "We can answer that question by using a radiative transfer model to explicity compute the shortwave and longwave beams, and the warming/cooling of each layer associated with the radiative sources and sinks of energy.\n",
    "\n",
    "Basically, we reach radiative equilibrium when **energy is received and lost through radiation at the same rate in every layer**."
   ]
  },
  {
   "cell_type": "markdown",
   "id": "3e72cb1d",
   "metadata": {},
   "source": [
    "Because of the complicated dependence of emission/absorption features on the wavelength of radiation and the different gases, the beam is divided up into many different pieces representing different parts of the electromagnetic spectrum.\n",
    "\n",
    "We will not look explicitly at this complexity here, but we will **use a model** that represents these processes at the same level of detail we would in a GCM."
   ]
  },
  {
   "cell_type": "markdown",
   "id": "f7862b9a",
   "metadata": {},
   "source": [
    "____________\n",
    "\n",
    "## 3. Setting up a single-column radiation model in climlab\n",
    "____________"
   ]
  },
  {
   "cell_type": "markdown",
   "id": "25b49144",
   "metadata": {},
   "source": [
    "### Radiation models in climlab\n",
    "\n",
    "We're now going to use **climlab** to run a **complex radiation model**, one that accounts for the spectral absorption properties of different gases.\n",
    "\n",
    "climlab actually provides two different \"GCM-level\" [radiation codes](https://climlab.readthedocs.io/en/latest/api/climlab.radiation.Radiation.html):\n",
    "\n",
    "- The [CAM3 radiation module](https://climlab.readthedocs.io/en/latest/api/climlab.radiation.CAM3.html) from NCAR (essentially the same radiation code used in our CESM simulations)\n",
    "- The [RRTMG (Rapid Radiative Transfer Model)](https://climlab.readthedocs.io/en/latest/api/climlab.radiation.RRTMG.html) which is used in many current GCMs.\n",
    "\n",
    "The links above take you to the online [climlab documentation](http://climlab.readthedocs.io/en/latest/intro.html)."
   ]
  },
  {
   "cell_type": "markdown",
   "id": "7eab9224",
   "metadata": {},
   "source": [
    "We're going to use a model called the [Rapid Radiative Transfer Model](http://rtweb.aer.com/rrtm_frame.html) or RRTMG. This is a \"serious\" and widely-used radiation model, used in many comprehensive GCMs and Numerical Weather Prediction models.\n",
    "\n",
    "climlab provides an easy-to-use Python wrapper for the RRTMG code."
   ]
  },
  {
   "cell_type": "markdown",
   "id": "13bdba2e",
   "metadata": {},
   "source": [
    "### Water vapor data"
   ]
  },
  {
   "cell_type": "markdown",
   "id": "66a5c519",
   "metadata": {},
   "source": [
    "Before setting up the model, we need some water vapor data. Why? Because our model needs to know how much water vapor exists at each vertical level, since water vapor is a radiatively important gas.\n",
    "\n",
    "We're actually going to use the specific humidity field from our CESM control simulation. We'll just take the global, time average of this data, and plot its vertical profile."
   ]
  },
  {
   "cell_type": "code",
   "execution_count": null,
   "id": "74d27ef8",
   "metadata": {},
   "outputs": [],
   "source": [
    "#  Load the model output as we have done before\n",
    "cesm_data_path = \"http://thredds.atmos.albany.edu:8080/thredds/dodsC/CESMA/\"\n",
    "atm_control = xr.open_dataset(cesm_data_path + \"cpl_1850_f19/concatenated/cpl_1850_f19.cam.h0.nc\")\n",
    "#  The specific humidity is stored in the variable called Q in this dataset:\n",
    "print(atm_control.Q)"
   ]
  },
  {
   "cell_type": "markdown",
   "id": "6bd7cff2",
   "metadata": {},
   "source": [
    "Now take the global, annual average of the specific humidity:"
   ]
  },
  {
   "cell_type": "code",
   "execution_count": null,
   "id": "b1d40ef5",
   "metadata": {},
   "outputs": [],
   "source": [
    "# Take global, annual average of the specific humidity\n",
    "weight_factor = atm_control.gw / atm_control.gw.mean(dim='lat')\n",
    "Qglobal = (atm_control.Q * weight_factor).mean(dim=('lat','lon','time'))\n",
    "# Take a look at what we just calculated ... it should be one-dimensional (vertical levels)\n",
    "print(Qglobal)"
   ]
  },
  {
   "cell_type": "markdown",
   "id": "e7143c2b",
   "metadata": {},
   "source": [
    "And make a figure:"
   ]
  },
  {
   "cell_type": "code",
   "execution_count": null,
   "id": "b617b5a6",
   "metadata": {},
   "outputs": [],
   "source": [
    "fig, ax = plt.subplots()\n",
    "#  Multiply Qglobal by 1000 to put in units of grams water vapor per kg of air\n",
    "ax.plot(Qglobal*1000., Qglobal.lev)\n",
    "ax.invert_yaxis()\n",
    "ax.set_ylabel('Pressure (hPa)')\n",
    "ax.set_xlabel('Specific humidity (g/kg)')\n",
    "ax.grid()"
   ]
  },
  {
   "cell_type": "markdown",
   "id": "532edcae",
   "metadata": {},
   "source": [
    "This shows a typical climatological humidity profile. Water vapor is a **trace gas**! But as we will see, it plays a very important role.\n",
    "\n",
    "Based on this figure, where is most of the water vapor?"
   ]
  },
  {
   "cell_type": "markdown",
   "id": "0d702823",
   "metadata": {},
   "source": [
    "### Create a single-column model on the same grid as this water vapor data:"
   ]
  },
  {
   "cell_type": "markdown",
   "id": "6dd4e2d1",
   "metadata": {},
   "source": [
    "Here we will create the grid and state variables (air and surface temperature) for our single-column model."
   ]
  },
  {
   "cell_type": "code",
   "execution_count": null,
   "id": "329ce257",
   "metadata": {},
   "outputs": [],
   "source": [
    "import climlab\n",
    "#  Make a model on same vertical domain as the GCM\n",
    "mystate = climlab.column_state(lev=Qglobal.lev, water_depth=2.5)\n",
    "print(mystate)"
   ]
  },
  {
   "cell_type": "code",
   "execution_count": null,
   "id": "fb0e4273",
   "metadata": {},
   "outputs": [],
   "source": [
    "radmodel = climlab.radiation.RRTMG(name='Radiation (all gases)',  # give our model a name!\n",
    "                              state=mystate,   # give our model an initial condition!\n",
    "                              specific_humidity=Qglobal.values,  # tell the model how much water vapor there is\n",
    "                              albedo = 0.25,  # this the SURFACE shortwave albedo\n",
    "                              timestep = climlab.constants.seconds_per_day,  # set the timestep to one day (measured in seconds)\n",
    "                             )\n",
    "print(radmodel)"
   ]
  },
  {
   "cell_type": "markdown",
   "id": "137461e0",
   "metadata": {},
   "source": [
    "### Explore the single-column model object"
   ]
  },
  {
   "cell_type": "markdown",
   "id": "b420a4aa",
   "metadata": {},
   "source": [
    "Look at a few interesting properties of the model we just created:"
   ]
  },
  {
   "cell_type": "code",
   "execution_count": null,
   "id": "1a83b1f0",
   "metadata": {},
   "outputs": [],
   "source": [
    "#  Here's the state dictionary we already created:\n",
    "radmodel.state"
   ]
  },
  {
   "cell_type": "code",
   "execution_count": null,
   "id": "c1e02362",
   "metadata": {},
   "outputs": [],
   "source": [
    "#  Here are the pressure levels in hPa\n",
    "radmodel.lev"
   ]
  },
  {
   "cell_type": "markdown",
   "id": "255851f0",
   "metadata": {},
   "source": [
    "There is a dictionary called `absorber_vmr` that holds the *volume mixing ratio* of all the radiatively active gases in the column:"
   ]
  },
  {
   "cell_type": "code",
   "execution_count": null,
   "id": "fc7b2681",
   "metadata": {},
   "outputs": [],
   "source": [
    "radmodel.absorber_vmr"
   ]
  },
  {
   "cell_type": "markdown",
   "id": "f4dc02a0",
   "metadata": {},
   "source": [
    "Most are just a single number because they are assumed to be **well mixed** in the atmosphere.\n",
    "\n",
    "The exception is ozone, which has a vertical structure taken from observations. Let's plot it"
   ]
  },
  {
   "cell_type": "code",
   "execution_count": null,
   "id": "b59b37ac",
   "metadata": {},
   "outputs": [],
   "source": [
    "#  E.g. the CO2 content (a well-mixed gas) in parts per million\n",
    "radmodel.absorber_vmr['CO2'] * 1E6"
   ]
  },
  {
   "cell_type": "markdown",
   "id": "fc91fd4f",
   "metadata": {},
   "source": [
    "### Python exercise: plot the ozone profile\n",
    "\n",
    "Make a simple plot showing the vertical structure of ozone, similar to the specific humidity plot we just made above."
   ]
  },
  {
   "cell_type": "code",
   "execution_count": null,
   "id": "7dfc8f7b",
   "metadata": {},
   "outputs": [],
   "source": [
    "# here is the data you need for the plot, as a plain numpy arrays:\n",
    "print(radmodel.lev)\n",
    "print(radmodel.absorber_vmr['O3'])"
   ]
  },
  {
   "cell_type": "code",
   "execution_count": null,
   "id": "83e3baff",
   "metadata": {},
   "outputs": [],
   "source": []
  },
  {
   "cell_type": "markdown",
   "id": "e85ef9eb",
   "metadata": {},
   "source": [
    "The other radiatively important gas is of course water vapor, which is stored separately in the `specific_humidity` attribute:"
   ]
  },
  {
   "cell_type": "code",
   "execution_count": null,
   "id": "38142015",
   "metadata": {},
   "outputs": [],
   "source": [
    "#  specific humidity in kg/kg, on the same pressure axis\n",
    "print(radmodel.specific_humidity)"
   ]
  },
  {
   "cell_type": "markdown",
   "id": "9bbb6fe0",
   "metadata": {
    "slideshow": {
     "slide_type": "slide"
    }
   },
   "source": [
    "### The RRTMG radiation model has lots of different input parameters\n",
    "\n",
    "For details you can look at the [documentation](http://climlab.readthedocs.io/en/latest/api/climlab.radiation.radiation.html)"
   ]
  },
  {
   "cell_type": "code",
   "execution_count": null,
   "id": "f40a80b3",
   "metadata": {
    "slideshow": {
     "slide_type": "slide"
    }
   },
   "outputs": [],
   "source": [
    "for item in radmodel.input:\n",
    "    print(item)"
   ]
  },
  {
   "cell_type": "markdown",
   "id": "2e1119e8",
   "metadata": {
    "slideshow": {
     "slide_type": "slide"
    }
   },
   "source": [
    "Many of the parameters control the **radiative effects of clouds**.\n",
    "\n",
    "But here we should note that the model is **initialized with no clouds at all**:"
   ]
  },
  {
   "cell_type": "code",
   "execution_count": null,
   "id": "aa4f539d",
   "metadata": {},
   "outputs": [],
   "source": [
    "#  This is the fractional area covered by clouds in our column:\n",
    "radmodel.cldfrac"
   ]
  },
  {
   "cell_type": "markdown",
   "id": "229f641c",
   "metadata": {},
   "source": [
    "____________\n",
    "\n",
    "## 4. Radiative equilibrium in the single-column model\n",
    "____________"
   ]
  },
  {
   "cell_type": "markdown",
   "id": "deac7158",
   "metadata": {},
   "source": [
    "### Step the model forward in time!"
   ]
  },
  {
   "cell_type": "markdown",
   "id": "b2483e0b",
   "metadata": {},
   "source": [
    "Here are the current temperatures (initial condition):"
   ]
  },
  {
   "cell_type": "code",
   "execution_count": null,
   "id": "d8d504d7",
   "metadata": {},
   "outputs": [],
   "source": [
    "radmodel.Ts"
   ]
  },
  {
   "cell_type": "code",
   "execution_count": null,
   "id": "c0dcfdb2",
   "metadata": {},
   "outputs": [],
   "source": [
    "radmodel.Tatm"
   ]
  },
  {
   "cell_type": "markdown",
   "id": "77bf7c66",
   "metadata": {},
   "source": [
    "Now let's take a single timestep:"
   ]
  },
  {
   "cell_type": "code",
   "execution_count": null,
   "id": "d890d4af",
   "metadata": {},
   "outputs": [],
   "source": [
    "radmodel.step_forward()"
   ]
  },
  {
   "cell_type": "code",
   "execution_count": null,
   "id": "e7a932de",
   "metadata": {},
   "outputs": [],
   "source": [
    "radmodel.Ts"
   ]
  },
  {
   "cell_type": "markdown",
   "id": "f73deed0",
   "metadata": {},
   "source": [
    "The surface got warmer! \n",
    "\n",
    "Let's take a look at all the diagnostic information that was generated during that timestep:"
   ]
  },
  {
   "cell_type": "markdown",
   "id": "c776e571",
   "metadata": {},
   "source": [
    "### Diagnostic variables in our single-column model\n",
    "\n",
    "Every climlab model has a `diagnostics` dictionary. Here we are going to check it out as an `xarray` dataset:"
   ]
  },
  {
   "cell_type": "code",
   "execution_count": null,
   "id": "38ac1454",
   "metadata": {},
   "outputs": [],
   "source": [
    "climlab.to_xarray(radmodel.diagnostics)"
   ]
  },
  {
   "cell_type": "markdown",
   "id": "36ba7cd1",
   "metadata": {},
   "source": [
    "The main \"job\" of a radiative transfer model it to calculate the shortwave and longwave fluxes up and down between each model layer.\n",
    "\n",
    "For example:"
   ]
  },
  {
   "cell_type": "code",
   "execution_count": null,
   "id": "acfa50b9",
   "metadata": {},
   "outputs": [],
   "source": [
    "climlab.to_xarray(radmodel.LW_flux_up)"
   ]
  },
  {
   "cell_type": "markdown",
   "id": "54c13470",
   "metadata": {},
   "source": [
    "These are upward longwave fluxes in W/m2.\n",
    "\n",
    "Why are there 27 data points, when the model has 26 pressure levels?"
   ]
  },
  {
   "cell_type": "code",
   "execution_count": null,
   "id": "0bdf8722",
   "metadata": {},
   "outputs": [],
   "source": [
    "radmodel.lev"
   ]
  },
  {
   "cell_type": "code",
   "execution_count": null,
   "id": "652faa29",
   "metadata": {},
   "outputs": [],
   "source": [
    "radmodel.lev_bounds"
   ]
  },
  {
   "cell_type": "markdown",
   "id": "5dc63ca9",
   "metadata": {},
   "source": [
    "The last element of the flux array represents the **upward flux from the surface to the first level**:"
   ]
  },
  {
   "cell_type": "code",
   "execution_count": null,
   "id": "e0781679",
   "metadata": {},
   "outputs": [],
   "source": [
    "radmodel.LW_flux_up[-1]"
   ]
  },
  {
   "cell_type": "markdown",
   "id": "6cb7fcf6",
   "metadata": {},
   "source": [
    "The value is about 390 W m$^{-2}$. \n",
    "\n",
    "Why?"
   ]
  },
  {
   "cell_type": "code",
   "execution_count": null,
   "id": "cbac5284",
   "metadata": {},
   "outputs": [],
   "source": [
    "sigma = 5.67E-8\n",
    "sigma * 288**4"
   ]
  },
  {
   "cell_type": "markdown",
   "id": "1c62fc00",
   "metadata": {},
   "source": [
    "The surface temperature was initialized at 288 K, and the surface is treated as very close to a blackbody in the model."
   ]
  },
  {
   "cell_type": "markdown",
   "id": "4323786d",
   "metadata": {},
   "source": [
    "What about the flux from the top layer out to space?\n",
    "\n",
    "Two ways to access this information:"
   ]
  },
  {
   "cell_type": "code",
   "execution_count": null,
   "id": "f3f33a15",
   "metadata": {},
   "outputs": [],
   "source": [
    "radmodel.LW_flux_up[0]"
   ]
  },
  {
   "cell_type": "code",
   "execution_count": null,
   "id": "cf4320d7",
   "metadata": {},
   "outputs": [],
   "source": [
    "radmodel.OLR"
   ]
  },
  {
   "cell_type": "markdown",
   "id": "17e3a8f4",
   "metadata": {},
   "source": [
    "Of course there is a whole other set of fluxes for the shortwave radiation.\n",
    "\n",
    "One diagnostic we will often want to look at is the **net energy budget at the top of the atmosphere**:"
   ]
  },
  {
   "cell_type": "code",
   "execution_count": null,
   "id": "a7460ffb",
   "metadata": {},
   "outputs": [],
   "source": [
    "radmodel.ASR - radmodel.OLR"
   ]
  },
  {
   "cell_type": "markdown",
   "id": "a18feac5",
   "metadata": {},
   "source": [
    "***Is the model gaining or losing energy?***"
   ]
  },
  {
   "cell_type": "markdown",
   "id": "4fb5ea0b",
   "metadata": {},
   "source": [
    "### Integrate out to equilibrium\n",
    "\n",
    "Here I want to step forward in time until the model is very close to energy balance.\n",
    "\n",
    "We can use a `while` loop, conditional on the top-of-atmosphere imbalance:"
   ]
  },
  {
   "cell_type": "code",
   "execution_count": null,
   "id": "a2a6b0a0",
   "metadata": {},
   "outputs": [],
   "source": [
    "while np.abs(radmodel.ASR - radmodel.OLR) > 0.01:\n",
    "    radmodel.step_forward()"
   ]
  },
  {
   "cell_type": "markdown",
   "id": "b6403861",
   "metadata": {},
   "source": [
    "Check the energy budget again:"
   ]
  },
  {
   "cell_type": "code",
   "execution_count": null,
   "id": "643a19e3",
   "metadata": {},
   "outputs": [],
   "source": [
    "#  Check the energy budget again\n",
    "radmodel.ASR - radmodel.OLR"
   ]
  },
  {
   "cell_type": "markdown",
   "id": "3b2276a7",
   "metadata": {},
   "source": [
    "Indeed, the imbalance is now small."
   ]
  },
  {
   "cell_type": "markdown",
   "id": "c3597e23",
   "metadata": {},
   "source": [
    "### Compare the radiative equilibrium temperature to observations"
   ]
  },
  {
   "cell_type": "markdown",
   "id": "4a58a4a0",
   "metadata": {},
   "source": [
    "Here's a helper function we'll use to add model temperature profiles to our skew-T plot:"
   ]
  },
  {
   "cell_type": "code",
   "execution_count": null,
   "id": "df32e237",
   "metadata": {},
   "outputs": [],
   "source": [
    "def add_profile(skew, model, linestyle='-', color=None):\n",
    "    line = skew.plot(model.lev, model.Tatm - climlab.constants.tempCtoK,\n",
    "             label=model.name, linewidth=2)[0]\n",
    "    skew.plot(1000, model.Ts - climlab.constants.tempCtoK, 'o', \n",
    "              markersize=8, color=line.get_color())\n",
    "    skew.ax.legend()"
   ]
  },
  {
   "cell_type": "code",
   "execution_count": null,
   "id": "91919f5d",
   "metadata": {},
   "outputs": [],
   "source": [
    "skew = make_skewT()\n",
    "add_profile(skew, radmodel)\n",
    "skew.ax.set_title('Pure radiative equilibrium', fontsize=18);"
   ]
  },
  {
   "cell_type": "markdown",
   "id": "80298497",
   "metadata": {},
   "source": [
    "What do you think about this model -- data comparison?"
   ]
  },
  {
   "cell_type": "markdown",
   "id": "deacb072",
   "metadata": {},
   "source": [
    "____________\n",
    "\n",
    "## 5. Effects of different gases on the radiative equilibrium profile\n",
    "____________"
   ]
  },
  {
   "cell_type": "markdown",
   "id": "c703d67d",
   "metadata": {},
   "source": [
    "**Models are for experimenting and playing with!**\n",
    "\n",
    "We have just built a single-column radiation model with several different absorbing gases. *We can learn about their effects by taking them away.*"
   ]
  },
  {
   "cell_type": "markdown",
   "id": "96d1018b",
   "metadata": {},
   "source": [
    "### Radiative equilibrium without water vapor"
   ]
  },
  {
   "cell_type": "code",
   "execution_count": null,
   "id": "15342961",
   "metadata": {},
   "outputs": [],
   "source": [
    "# Make an exact clone of our existing model\n",
    "radmodel_noH2O = climlab.process_like(radmodel)\n",
    "radmodel_noH2O.name = 'Radiation (no H2O)'\n",
    "print(radmodel_noH2O)"
   ]
  },
  {
   "cell_type": "code",
   "execution_count": null,
   "id": "d7414eba",
   "metadata": {},
   "outputs": [],
   "source": [
    "#  Here is the water vapor profile we started with\n",
    "radmodel_noH2O.specific_humidity"
   ]
  },
  {
   "cell_type": "markdown",
   "id": "88680e46",
   "metadata": {},
   "source": [
    "Now get rid of the water entirely!"
   ]
  },
  {
   "cell_type": "code",
   "execution_count": null,
   "id": "022c1a3d",
   "metadata": {},
   "outputs": [],
   "source": [
    "radmodel_noH2O.specific_humidity *= 0."
   ]
  },
  {
   "cell_type": "code",
   "execution_count": null,
   "id": "9bf3d8f0",
   "metadata": {},
   "outputs": [],
   "source": [
    "radmodel_noH2O.specific_humidity"
   ]
  },
  {
   "cell_type": "markdown",
   "id": "762141e5",
   "metadata": {},
   "source": [
    "And run this new model forward to equilibrium:"
   ]
  },
  {
   "cell_type": "code",
   "execution_count": null,
   "id": "c015ad87",
   "metadata": {},
   "outputs": [],
   "source": [
    "#  it's useful to take a single step first before starting the while loop\n",
    "#   because the diagnostics won't get updated \n",
    "#  (and thus show the effects of removing water vapor)\n",
    "#  until we take a step forward\n",
    "radmodel_noH2O.step_forward()\n",
    "while np.abs(radmodel_noH2O.ASR - radmodel_noH2O.OLR) > 0.01:\n",
    "    radmodel_noH2O.step_forward()"
   ]
  },
  {
   "cell_type": "code",
   "execution_count": null,
   "id": "33b93683",
   "metadata": {},
   "outputs": [],
   "source": [
    "radmodel_noH2O.ASR - radmodel_noH2O.OLR"
   ]
  },
  {
   "cell_type": "code",
   "execution_count": null,
   "id": "1c08a35e",
   "metadata": {},
   "outputs": [],
   "source": [
    "skew = make_skewT()\n",
    "for model in [radmodel, radmodel_noH2O]:\n",
    "    add_profile(skew, model)"
   ]
  },
  {
   "cell_type": "markdown",
   "id": "4eb3e116",
   "metadata": {},
   "source": [
    "What do you think you can learn from this about the radiative role of water vapor?"
   ]
  },
  {
   "cell_type": "markdown",
   "id": "7b0d5d35",
   "metadata": {},
   "source": [
    "### Exercise: radiative equilibrium without ozone\n",
    "\n",
    "Following the steps above, make another model, but this time instead of removing the water vapor, remove the ozone!\n",
    "\n",
    "Make another skew-T plot comparing all three model results.\n",
    "\n",
    "If you have time, try a third case in which you remove both the water vapor and the ozone!"
   ]
  },
  {
   "cell_type": "code",
   "execution_count": null,
   "id": "e88816ae",
   "metadata": {},
   "outputs": [],
   "source": []
  },
  {
   "cell_type": "markdown",
   "id": "1e9c85a4",
   "metadata": {},
   "source": [
    "____________\n",
    "\n",
    "## 6. Summary of radiative equilibrium results\n",
    "____________"
   ]
  },
  {
   "cell_type": "markdown",
   "id": "1492a251",
   "metadata": {},
   "source": [
    "- We used the `RRTMG` radiation model with prescribed profiles of absorbing gases to calculate **pure radiative equilibrium** temperature profiles.\n",
    "- Radiative Equilibriu means the temperatures that the surface and air column would have **if radiation was the only physical process that could transfer energy between levels**.\n",
    "- We computed several different radiative equilibrium profiles, with and without key absorbing gases\n",
    "    - The profile without water vapor is **much colder at surface and lower troposphere**, but about the same in the stratosphere\n",
    "    - The profile without ozone is **much colder in the stratosphere**, but about the same near the surface.\n",
    "    - In fact there really isn't a stratosphere at all without ozone! The temperature is nearly isothermal in the upper atmosphere in that profile."
   ]
  },
  {
   "cell_type": "markdown",
   "id": "b0196aff",
   "metadata": {},
   "source": [
    "However the really key takeaway message is that **none of these radiative equilibrium profiles look much like the observations in the troposphere**.\n",
    "\n",
    "This strongly suggests that other physical processes (aside from radiation) are important in determining the observed temperature profile."
   ]
  },
  {
   "cell_type": "markdown",
   "id": "16528da1",
   "metadata": {},
   "source": [
    "Plotting on the skew-T diagram makes it clear that **all the radiative equilibrium profiles are statically unstable near the surface**.\n",
    "\n",
    "The next step is therefore to look at the effects of convective mixing on the temperatures of the surface and lower troposphere."
   ]
  },
  {
   "cell_type": "markdown",
   "id": "d33bd2a2",
   "metadata": {
    "slideshow": {
     "slide_type": "skip"
    }
   },
   "source": [
    "____________\n",
    "\n",
    "## Credits\n",
    "\n",
    "This notebook is part of [The Climate Laboratory](https://brian-rose.github.io/ClimateLaboratoryBook), an open-source textbook developed and maintained by [Brian E. J. Rose](http://www.atmos.albany.edu/facstaff/brose/index.html), University at Albany.\n",
    "\n",
    "It is licensed for free and open consumption under the\n",
    "[Creative Commons Attribution 4.0 International (CC BY 4.0)](https://creativecommons.org/licenses/by/4.0/) license.\n",
    "\n",
    "Development of these notes and the [climlab software](https://github.com/brian-rose/climlab) is partially supported by the National Science Foundation under award AGS-1455071 to Brian Rose. Any opinions, findings, conclusions or recommendations expressed here are mine and do not necessarily reflect the views of the National Science Foundation.\n",
    "____________"
   ]
  }
 ],
 "metadata": {
  "jupytext": {
   "text_representation": {
    "extension": ".md",
    "format_name": "myst",
    "format_version": 0.12,
    "jupytext_version": "1.6.0"
   }
  },
  "kernelspec": {
   "display_name": "Python 3",
   "language": "python",
   "name": "python3"
  },
  "source_map": [
   14,
   21,
   35,
   52,
   71,
   75,
   85,
   92,
   98,
   102,
   110,
   116,
   123,
   136,
   142,
   146,
   152,
   158,
   162,
   168,
   172,
   180,
   186,
   190,
   194,
   201,
   209,
   213,
   217,
   222,
   225,
   229,
   231,
   237,
   240,
   246,
   252,
   254,
   258,
   263,
   269,
   278,
   284,
   287,
   294,
   298,
   302,
   306,
   308,
   312,
   316,
   318,
   324,
   330,
   332,
   338,
   340,
   346,
   350,
   352,
   356,
   358,
   364,
   367,
   371,
   377,
   381,
   383,
   389,
   391,
   395,
   403,
   406,
   410,
   413,
   417,
   421,
   425,
   434,
   438,
   442,
   449,
   455,
   459,
   466,
   469,
   473,
   477,
   479,
   483,
   493,
   497,
   501,
   505,
   515,
   517,
   524,
   533,
   539,
   545
  ]
 },
 "nbformat": 4,
 "nbformat_minor": 5
}