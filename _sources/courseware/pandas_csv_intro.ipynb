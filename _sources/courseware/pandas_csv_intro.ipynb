{
 "cells": [
  {
   "cell_type": "markdown",
   "id": "cdaf99e1",
   "metadata": {},
   "source": [
    "(pandas_intro)=\n",
    "# Reading & Summarizing CSV Data\n",
    "\n",
    "Credit: the notebooks in this folder are lightly modified versions of work by Jennifer Walker presented\n",
    "at the EOAS python workshop in October, 2018: https://github.com/jenfly/eoas-python"
   ]
  },
  {
   "cell_type": "code",
   "execution_count": null,
   "id": "b772f4b8",
   "metadata": {},
   "outputs": [],
   "source": [
    "from pathlib import Path\n",
    "import a301_lib\n",
    "\n",
    "import pandas"
   ]
  },
  {
   "cell_type": "markdown",
   "id": "1648de33",
   "metadata": {},
   "source": [
    "## Learning objectives\n",
    "\n",
    "* Learn how to read, process and write data in csv/xlsx/tabular format using pandas\n",
    "\n",
    "* In parts 2 and parts 3:\n",
    "\n",
    "  * Learn how to download tabular data from websites with a \"restful api\":\n",
    "    - https://stackoverflow.com/questions/671118/what-exactly-is-restful-programming\n",
    "\n",
    "  * Learn how to clean data by filtering missing values, renaming columns, and writing out\n",
    "    processed files for further work"
   ]
  },
  {
   "cell_type": "markdown",
   "id": "97267bd5",
   "metadata": {},
   "source": [
    "## Folder setup\n",
    "\n",
    "As our project grows more complicated, it's good to have a central\n",
    "module that keeps track of important files and sets your scripts\n",
    "up so that they can import functions and classes from you modules.\n",
    "If you were planning to distribute your project using conda, then\n",
    "you would need to write an installation script, which is a fair\n",
    "amount of work.   At this stage, it's easier and more flexible to\n",
    "store that information in a file that travels along with your notebook.\n",
    "We set the \"context\" for this notebook by importing:\n",
    "[context_pandas1.py](https://github.com/phaustin/eosc213_students/blob/master/notebooks/pandas/context_pandas1.py)"
   ]
  },
  {
   "cell_type": "markdown",
   "id": "c95ff632",
   "metadata": {},
   "source": [
    "### Paths to data\n",
    "\n",
    "We're going to download and process sounding data in these folders"
   ]
  },
  {
   "cell_type": "code",
   "execution_count": null,
   "id": "3f521e38",
   "metadata": {},
   "outputs": [],
   "source": [
    "processed_dir = a301_lib.data_share / \"pandas/data/processed\"\n",
    "raw_dir = a301_lib.data_share / \"pandas/data/raw\""
   ]
  },
  {
   "cell_type": "markdown",
   "id": "5e2502bb",
   "metadata": {},
   "source": [
    "## Pandas dataframes vs. numpy arrays\n",
    "\n",
    "* Dataframes are **column oriented**, arrays are **row oriented**\n",
    "* Array items are all of the same dtype (i.e. numpy.float32), dataframe columns can\n",
    "  have different types (e.g.strings vs. integers)\n",
    "* Dataframe columns can be indexed by name (e.g. \"Total area of basin\") or by integer index\n",
    "* Dataframe rows can be indexed by number of by a special index (e.g. postal code)\n",
    "* Dataframe objects have dozens of methods to summarize and manipulate the data they hold, making\n",
    "  them similar in features to a lightweight relational database."
   ]
  },
  {
   "cell_type": "markdown",
   "id": "70ba4a51",
   "metadata": {},
   "source": [
    "## Intro to Pandas\n",
    "\n",
    "- `pandas` = [Python Data Analysis Library](https://pandas.pydata.org/)\n",
    "- Best book: [Python for data analysis](https://github.com/wesm/pydata-book) by Wes McKinney\n",
    "- Jennifer Walker's {ref}`pandas_cheatsheet`\n",
    "- Library for working with **labelled** tabular data (1-D and 2-D)\n",
    "  - Data formats include: comma separated values (CSV) and other text files, Excel spreadsheets, HDF5, [and others](https://pandas.pydata.org/pandas-docs/stable/io.html)\n",
    "- With `pandas` you can do pretty much everything you would in a spreadsheet, plus a whole lot more!"
   ]
  },
  {
   "cell_type": "markdown",
   "id": "fe24f902",
   "metadata": {},
   "source": [
    "> If you're working with higher dimensional data and/or netCDF files, check out the excellent [xarray library](http://xarray.pydata.org/en/stable/), which brings the labelled data power of `pandas` to N-dimensional arrays"
   ]
  },
  {
   "cell_type": "markdown",
   "id": "2ee5bbb0",
   "metadata": {},
   "source": [
    "## Why Pandas?\n",
    "- Working with large data files and complex calculations\n",
    "- Dealing with messy and missing data\n",
    "- Merging data from multiple files\n",
    "- Timeseries analysis\n",
    "- Automate repetitive tasks\n",
    "- Combine with other Python libraries to create beautiful and fully customized visualizations"
   ]
  },
  {
   "cell_type": "markdown",
   "id": "0d6aadc9",
   "metadata": {},
   "source": [
    "## Reading a CSV file\n",
    "\n",
    "We'll be working with the file `weather_YVR.csv` in the `data` sub-folder.\n",
    "- Environment Canada daily weather measurements at Vancouver Airport from 1938-2017."
   ]
  },
  {
   "cell_type": "markdown",
   "id": "ef2d2437",
   "metadata": {},
   "source": [
    "Now let's read the CSV file into our notebook with the function `read_csv` from the `pandas` library.\n",
    "- To access functions in the library, we use dot notation again: `pandas.read_csv()`\n",
    "- Our input to the read_csv function is the file path as a string: `'data/weather_YVR.csv'`\n",
    "\n",
    "We'll store the data as a dataframe called `weather`."
   ]
  },
  {
   "cell_type": "markdown",
   "id": "52140cc3",
   "metadata": {},
   "source": [
    "### The pathlib module\n",
    "\n",
    "The cell below constructs a [Path object](https://realpython.com/python-pathlib/).  Note the\n",
    "direction of the \"/\" separator.  This would not be the way that we would\n",
    "specify a file on windows (that would be 'data\\weather_YVR.csv' -- Path objects\n",
    "hide this complexity by understanding whether we are working on windows, linux or macos and\n",
    "just doing the right thing."
   ]
  },
  {
   "cell_type": "code",
   "execution_count": null,
   "id": "c71cc9fc",
   "metadata": {},
   "outputs": [],
   "source": [
    "weather_file = a301_lib.data_share / \"pandas/data/weather_YVR.csv\""
   ]
  },
  {
   "cell_type": "code",
   "execution_count": null,
   "id": "0d9f72d9",
   "metadata": {},
   "outputs": [],
   "source": [
    "weather = pandas.read_csv(weather_file)"
   ]
  },
  {
   "cell_type": "markdown",
   "id": "cde3b9c9",
   "metadata": {
    "slideshow": {
     "slide_type": "skip"
    }
   },
   "source": [
    "> Pro Tips!\n",
    "- Try typing `pandas.re` and then press Tab and select `read_csv` from the auto-complete options\n",
    "- Auto-complete even works for file paths inside a string!"
   ]
  },
  {
   "cell_type": "code",
   "execution_count": null,
   "id": "d4edc6b7",
   "metadata": {},
   "outputs": [],
   "source": [
    "weather"
   ]
  },
  {
   "cell_type": "markdown",
   "id": "6d3ccb5e",
   "metadata": {},
   "source": [
    "- Only the first 30 and last 30 rows are displayed (but the data is all there in our `weather` variable)\n",
    "- You may notice some weird `NaN` values&mdash;these represent missing data (`NaN` = \"not a number\")"
   ]
  },
  {
   "cell_type": "markdown",
   "id": "01f86776",
   "metadata": {},
   "source": [
    "What type of object is `weather`?"
   ]
  },
  {
   "cell_type": "code",
   "execution_count": null,
   "id": "0d177aa8",
   "metadata": {},
   "outputs": [],
   "source": [
    "type(weather)"
   ]
  },
  {
   "cell_type": "markdown",
   "id": "b17d01c1",
   "metadata": {},
   "source": [
    "- `weather` is a **DataFrame**, a data structure from the `pandas` library\n",
    "  - A DataFrame is a 2-dimensional array (organized into rows and columns, like a table in a spreadsheet)"
   ]
  },
  {
   "cell_type": "markdown",
   "id": "4e7f2da6",
   "metadata": {},
   "source": [
    "- When we display `weather`, the integer numbers in bold on the left are the DataFrame's **index**\n",
    "  - In this case, the index is simply a range of integers corresponding with the row numbers"
   ]
  },
  {
   "cell_type": "code",
   "execution_count": null,
   "id": "625ac895",
   "metadata": {},
   "outputs": [],
   "source": [
    "weather"
   ]
  },
  {
   "cell_type": "markdown",
   "id": "82f93058",
   "metadata": {},
   "source": [
    "For large DataFrames, it's often useful to display just the first few or last few rows:"
   ]
  },
  {
   "cell_type": "code",
   "execution_count": null,
   "id": "89322e4b",
   "metadata": {},
   "outputs": [],
   "source": [
    "print(weather.head())"
   ]
  },
  {
   "cell_type": "markdown",
   "id": "490c927d",
   "metadata": {
    "slideshow": {
     "slide_type": "fragment"
    }
   },
   "source": [
    "The `head` method returns a new DataFrame consisting of the first `n` rows (default 5)\n",
    "\n",
    "\n",
    "> Pro Tips!\n",
    "> - To display the documentation for this method, you can run the command `weather.head?` in your Jupyter notebook\n",
    "> - To see other methods available for the DataFrame, type `weather.` followed by Tab for auto-complete options"
   ]
  },
  {
   "cell_type": "markdown",
   "id": "8da868f9",
   "metadata": {},
   "source": [
    "First two rows:"
   ]
  },
  {
   "cell_type": "code",
   "execution_count": null,
   "id": "a09fc5a0",
   "metadata": {},
   "outputs": [],
   "source": [
    "weather.head(2)"
   ]
  },
  {
   "cell_type": "code",
   "execution_count": null,
   "id": "c2c8cf3d",
   "metadata": {},
   "outputs": [],
   "source": [
    "# Last four rows:"
   ]
  },
  {
   "cell_type": "code",
   "execution_count": null,
   "id": "671603fd",
   "metadata": {},
   "outputs": [],
   "source": [
    "weather.tail(4)"
   ]
  },
  {
   "cell_type": "markdown",
   "id": "cfa8b1a6",
   "metadata": {},
   "source": [
    "## Data at a Glance\n",
    "\n",
    "`pandas` provides many ways to quickly and easily summarize your data:\n",
    " - How many rows and columns are there?\n",
    " - What are all the column names and what type of data is in each column?"
   ]
  },
  {
   "cell_type": "markdown",
   "id": "3f13bc43",
   "metadata": {},
   "source": [
    "- Numerical data: What is the average and range of the values?\n",
    "- Text data: What are the unique values and how often does each occur?\n",
    "- How many values are missing in each column or row?"
   ]
  },
  {
   "cell_type": "markdown",
   "id": "7ec97e20",
   "metadata": {},
   "source": [
    "### Number of rows and columns:"
   ]
  },
  {
   "cell_type": "code",
   "execution_count": null,
   "id": "6c292f02",
   "metadata": {},
   "outputs": [],
   "source": [
    "weather.shape"
   ]
  },
  {
   "cell_type": "code",
   "execution_count": null,
   "id": "2052eb7f",
   "metadata": {},
   "outputs": [],
   "source": [
    "# - The DataFrame `weather` has 29190 rows and 10 columns\n",
    "# - The index does not count as a column\n",
    "# - Notice there are no parentheses at the end of `weather.shape`\n",
    "# - `shape` is a **data attribute** of the variable `weather`"
   ]
  },
  {
   "cell_type": "code",
   "execution_count": null,
   "id": "246f85c3",
   "metadata": {},
   "outputs": [],
   "source": [
    "type(weather.shape)"
   ]
  },
  {
   "cell_type": "code",
   "execution_count": null,
   "id": "e7e69b89",
   "metadata": {},
   "outputs": [],
   "source": [
    "# The data in the `shape` attribute is stored as a **tuple**, which is similar to a list.\n",
    "#\n",
    "# - Items in a tuple are enclosed in `()` instead of `[]`\n",
    "# - Tuples are immutable - you can't modify individual items inside a tuple"
   ]
  },
  {
   "cell_type": "markdown",
   "id": "d2260393",
   "metadata": {
    "slideshow": {
     "slide_type": "slide"
    }
   },
   "source": [
    "- Within a column of a DataFrame, the data must all be of the same type\n",
    "- We can find out the names and data types of each column from the `dtypes` attribute:"
   ]
  },
  {
   "cell_type": "code",
   "execution_count": null,
   "id": "fa573746",
   "metadata": {},
   "outputs": [],
   "source": [
    "weather.dtypes"
   ]
  },
  {
   "cell_type": "markdown",
   "id": "2b703003",
   "metadata": {},
   "source": [
    "In a `pandas` DataFrame, a column containing text data (or containing a mix of text and numbers) is assigned a `dtype` of `object` and is treated as a column of strings.\n",
    "\n",
    "`int64` and `float64` are integer and float, respectively.\n",
    "- The 64 at the end means that they are stored as 64-bit numbers in memory\n",
    "- These data types are equivalent to `int` and `float` in Python (`pandas` is a just a bit more explicit in how it names them)"
   ]
  },
  {
   "cell_type": "markdown",
   "id": "d772c061",
   "metadata": {},
   "source": [
    "If we just want a list of the column names, we can use the `columns` attribute:"
   ]
  },
  {
   "cell_type": "code",
   "execution_count": null,
   "id": "00a184d0",
   "metadata": {
    "slideshow": {
     "slide_type": "-"
    }
   },
   "outputs": [],
   "source": [
    "weather.columns"
   ]
  },
  {
   "cell_type": "markdown",
   "id": "dd522a39",
   "metadata": {},
   "source": [
    "### Simple Summary Statistics\n",
    "\n",
    "The `describe` method computes simple summary statistics and returns them as a DataFrame:"
   ]
  },
  {
   "cell_type": "code",
   "execution_count": null,
   "id": "18bb0dc6",
   "metadata": {},
   "outputs": [],
   "source": [
    "weather.describe()"
   ]
  },
  {
   "cell_type": "markdown",
   "id": "c035fb1a",
   "metadata": {},
   "source": [
    "The `describe` method is a way to quickly summarize the averages, extremes, and variability of each numerical data column."
   ]
  },
  {
   "cell_type": "markdown",
   "id": "2fb67294",
   "metadata": {},
   "source": [
    "You can look at each statistic individually with methods such as `mean`, `median`, `min`, `max`,`std`, and `count`"
   ]
  },
  {
   "cell_type": "code",
   "execution_count": null,
   "id": "2cf9f049",
   "metadata": {},
   "outputs": [],
   "source": [
    "weather.mean()"
   ]
  },
  {
   "cell_type": "markdown",
   "id": "ae169778",
   "metadata": {},
   "source": [
    "## Exercise\n",
    "\n",
    "For this exercise, we will explore data about countries around the world, combined from multiple sources by the [Gapminder foundation](https://www.gapminder.org/about-gapminder/)."
   ]
  },
  {
   "cell_type": "markdown",
   "id": "c804d635",
   "metadata": {},
   "source": [
    "Gapminder is an independent Swedish foundation that fights devastating misconceptions about global development and promotes a fact-based world view through the production of free teaching and data exploration resources."
   ]
  },
  {
   "cell_type": "markdown",
   "id": "17cd6e9e",
   "metadata": {},
   "source": [
    "### Data Overview\n",
    "\n",
    "The columns of `data/gapminder_world_data_2018.csv` are:\n",
    "\n",
    "| Column                | Description                        |\n",
    "|-----------------------|------------------------------------|\n",
    "| country               | Country name                       |\n",
    "| population            | Population in the country |\n",
    "| region                | Continent the country belongs to   |\n",
    "| sub_region            | Sub regions as defined by          |\n",
    "| income_group          | Income group [as specified by the world bank](https://datahelpdesk.worldbank.org/knowledgebase/articles/378833-how-are-the-income-group-thresholds-determined)                  |\n",
    "| life_expectancy       | The average number of years a newborn child would <br>live if mortality patterns were to stay the same |\n",
    "| gdp_per_capita         | GDP per capita (in USD) adjusted <br>for differences in purchasing power|\n",
    "| children_per_woman    | Number of children born to each woman|\n",
    "| child_mortality       | Deaths of children under 5 years <br>of age per 1000 live births|\n",
    "| pop_density           | Average number of people per km$^2$|"
   ]
  },
  {
   "cell_type": "markdown",
   "id": "5e69e515",
   "metadata": {},
   "source": [
    "> You may want to refer to the [Pandas cheatsheet](pandas-cheatsheet.ipynb) as you work through the exercises.\n",
    "\n",
    "**a)** Read the file `data/gapminder_world_data_2018.csv` into a new DataFrame `world` and display the first 10 rows."
   ]
  },
  {
   "cell_type": "markdown",
   "id": "14bc1af9",
   "metadata": {},
   "source": [
    "**b)** How many rows and columns does `world` have?"
   ]
  },
  {
   "cell_type": "markdown",
   "id": "5061391b",
   "metadata": {},
   "source": [
    "**c)** Display the names and data types of each column."
   ]
  },
  {
   "cell_type": "markdown",
   "id": "c9204a48",
   "metadata": {},
   "source": [
    "**d)** Display summary statistics with the `describe` method. What are the lowest and highest populations? How about lowest/highest population densities? Any guesses which countries these might be? (We'll find out the answers in Lesson 4!)"
   ]
  },
  {
   "cell_type": "markdown",
   "id": "d95e1be0",
   "metadata": {},
   "source": [
    "### Bonus exercises\n",
    "\n",
    "**e) Data wrangling - dealing with header rows**\n",
    "\n",
    "The file `data/raw/weather_YVR_1938.csv` contains the daily weather data for 1938, in the original format downloaded from Environment Canada. Open this file in the JupyterLab CSV viewer to see what it looks like.\n",
    "\n",
    "> Note that the CSV viewer isn't able to parse the data correctly because of the extra header rows at the beginning.\n",
    "\n",
    "- Now try reading the file into your notebook with `pandas.read_csv` and see what happens.\n",
    "\n",
    "If you look at the documentation for `pandas.read_csv`, you'll see a `skiprows` input buried amongst a few dozen other inputs for this function. This input tells `read_csv` how many rows to skip at the beginning of the file.\n",
    "- Try reading `data/raw/weather_YVR_1938.csv` again, but this time using a value of `24` for the `skiprows` keyword argument, and display the first 5 rows of the resulting DataFrame."
   ]
  },
  {
   "cell_type": "markdown",
   "id": "d5757d04",
   "metadata": {},
   "source": [
    "**f) Importing a library from a `.py` file**\n",
    "\n",
    "In the pandas folder, you'll see a file called `ecweather.py`. It is a Python *module*, which is a library contained in a single `.py` file (as opposed to a package, which is multiple `.py` files bundled together).\n",
    "\n",
    "You can import a library from a local `.py` file with the same syntax as any other library. The library name is just the file name minus the `.py` extension, so to import this library the syntax is:\n",
    "```python\n",
    "import ecweather\n",
    "```\n",
    "\n",
    "- Import `ecweather` into your notebook, and call the function `ecweather.welcome()` to test it. If everything worked ok, it should print a welcome message."
   ]
  }
 ],
 "metadata": {
  "jupytext": {
   "text_representation": {
    "extension": ".md",
    "format_name": "myst",
    "format_version": 0.12,
    "jupytext_version": "1.6.1-dev"
   }
  },
  "kernelspec": {
   "display_name": "Python 3",
   "language": "python",
   "name": "python3"
  },
  "source_map": [
   12,
   19,
   24,
   38,
   52,
   58,
   61,
   73,
   84,
   88,
   98,
   105,
   113,
   123,
   127,
   131,
   137,
   139,
   144,
   148,
   150,
   155,
   160,
   162,
   166,
   170,
   179,
   183,
   187,
   191,
   193,
   201,
   207,
   211,
   215,
   222,
   226,
   233,
   238,
   240,
   248,
   252,
   258,
   264,
   266,
   270,
   274,
   276,
   282,
   286,
   305,
   311,
   315,
   319,
   323,
   338
  ]
 },
 "nbformat": 4,
 "nbformat_minor": 5
}