{
 "cells": [
  {
   "cell_type": "markdown",
   "id": "141245ec",
   "metadata": {
    "slideshow": {
     "slide_type": "slide"
    }
   },
   "source": [
    "(nb:modeling)=\n",
    "# Modeling the global energy budget\n",
    "\n",
    "## Introducing the zero-dimensional Energy Balance Model\n",
    "\n",
    "This notebook is part of [The Climate Laboratory](https://brian-rose.github.io/ClimateLaboratoryBook) by [Brian E. J. Rose](http://www.atmos.albany.edu/facstaff/brose/index.html), University at Albany."
   ]
  },
  {
   "cell_type": "markdown",
   "id": "e3ee9bfd",
   "metadata": {
    "slideshow": {
     "slide_type": "slide"
    }
   },
   "source": [
    "____________\n",
    "<a id='section1'></a>\n",
    "\n",
    "## 1. Recap of the global energy budget\n",
    "____________"
   ]
  },
  {
   "cell_type": "markdown",
   "id": "15e7e184",
   "metadata": {
    "slideshow": {
     "slide_type": "slide"
    }
   },
   "source": [
    "Let's look again at the observations:"
   ]
  },
  {
   "cell_type": "markdown",
   "id": "f743ba22",
   "metadata": {},
   "source": [
    "![Observed global energy flows from Trenberth and Fasullo (2012)](../images/GlobalEnergyBudget.png)"
   ]
  },
  {
   "cell_type": "markdown",
   "id": "e6a62472",
   "metadata": {
    "slideshow": {
     "slide_type": "slide"
    }
   },
   "source": [
    "____________\n",
    "<a id='section1'></a>\n",
    "\n",
    "## 2. Tuning radiative fluxes to the observations\n",
    "____________"
   ]
  },
  {
   "cell_type": "markdown",
   "id": "1c5f7324",
   "metadata": {
    "slideshow": {
     "slide_type": "slide"
    }
   },
   "source": [
    "### Recap of our simple greenhouse model\n",
    "\n",
    "Last class we introduced a very simple model for the **OLR** or Outgoing Longwave Radiation to space:\n",
    "\n",
    "$$ \\text{OLR} = \\tau \\sigma T_s^4 $$\n",
    "\n",
    "where $\\tau$ is the **transmissivity** of the atmosphere, a number less than 1 that represents the greenhouse effect of Earth's atmosphere."
   ]
  },
  {
   "cell_type": "markdown",
   "id": "3ad7f0d7",
   "metadata": {
    "slideshow": {
     "slide_type": "slide"
    }
   },
   "source": [
    "We also tuned this model to the observations by choosing $ \\tau \\approx 0.61$.\n",
    "\n",
    "More precisely:"
   ]
  },
  {
   "cell_type": "code",
   "execution_count": null,
   "id": "e87e7444",
   "metadata": {},
   "outputs": [],
   "source": [
    "OLRobserved = 238.5  # in W/m2\n",
    "sigma = 5.67E-8  # S-B constant\n",
    "Tsobserved = 288.  # global average surface temperature\n",
    "tau = OLRobserved / sigma / Tsobserved**4  # solve for tuned value of transmissivity\n",
    "print(tau)"
   ]
  },
  {
   "cell_type": "markdown",
   "id": "a1369fb0",
   "metadata": {
    "slideshow": {
     "slide_type": "fragment"
    }
   },
   "source": [
    "Let's now deal with the shortwave (solar) side of the energy budget."
   ]
  },
  {
   "cell_type": "markdown",
   "id": "2b9cd2cd",
   "metadata": {
    "slideshow": {
     "slide_type": "slide"
    }
   },
   "source": [
    "### Absorbed Shortwave Radiation (ASR) and Planetary Albedo\n",
    "\n",
    "Let's define a few terms."
   ]
  },
  {
   "cell_type": "markdown",
   "id": "c7d98cd6",
   "metadata": {
    "slideshow": {
     "slide_type": "fragment"
    }
   },
   "source": [
    "#### Global mean insolation\n",
    "\n",
    "From the observations, the area-averaged incoming solar radiation or **insolation** is 341.3 W m$^{-2}$.\n",
    "\n",
    "Let's denote this quantity by $Q$."
   ]
  },
  {
   "cell_type": "code",
   "execution_count": null,
   "id": "714a1d59",
   "metadata": {},
   "outputs": [],
   "source": [
    "Q = 341.3  # the insolation"
   ]
  },
  {
   "cell_type": "markdown",
   "id": "7c5a1069",
   "metadata": {
    "slideshow": {
     "slide_type": "slide"
    }
   },
   "source": [
    "#### Planetary albedo\n",
    "\n",
    "Some of the incoming radiation is not absorbed at all but simply reflected back to space. Let's call this quantity $F_{reflected}$\n",
    "\n",
    "From observations we have:"
   ]
  },
  {
   "cell_type": "code",
   "execution_count": null,
   "id": "fcd3f286",
   "metadata": {},
   "outputs": [],
   "source": [
    "Freflected = 101.9  #  reflected shortwave flux in W/m2"
   ]
  },
  {
   "cell_type": "markdown",
   "id": "e1ea1c95",
   "metadata": {
    "slideshow": {
     "slide_type": "slide"
    }
   },
   "source": [
    "The **planetary albedo** is the fraction of $Q$ that is reflected.\n",
    "\n",
    "We will denote the planetary albedo by $\\alpha$.\n",
    "\n",
    "From the observations:"
   ]
  },
  {
   "cell_type": "code",
   "execution_count": null,
   "id": "345c1059",
   "metadata": {},
   "outputs": [],
   "source": [
    "alpha = Freflected / Q\n",
    "print(alpha)"
   ]
  },
  {
   "cell_type": "markdown",
   "id": "208cd96e",
   "metadata": {
    "slideshow": {
     "slide_type": "fragment"
    }
   },
   "source": [
    "That is, about 30% of the incoming radiation is reflected back to space."
   ]
  },
  {
   "cell_type": "markdown",
   "id": "0eaa548c",
   "metadata": {
    "slideshow": {
     "slide_type": "slide"
    }
   },
   "source": [
    "#### Absorbed Shortwave Radiation\n",
    "\n",
    "The **Absorbed Shortwave Radiation** or ASR is the part of the incoming sunlight that is *not* reflected back to space, i.e. that part that is absorbed somewhere within the Earth system.\n",
    "\n",
    "Mathematically we write\n",
    "\n",
    "$$ \\text{ASR} = Q - F_{reflected} = (1-\\alpha) Q $$"
   ]
  },
  {
   "cell_type": "markdown",
   "id": "2707ad59",
   "metadata": {
    "slideshow": {
     "slide_type": "fragment"
    }
   },
   "source": [
    "From the observations:"
   ]
  },
  {
   "cell_type": "code",
   "execution_count": null,
   "id": "92fc1bd0",
   "metadata": {},
   "outputs": [],
   "source": [
    "ASRobserved = Q - Freflected\n",
    "print(ASRobserved)"
   ]
  },
  {
   "cell_type": "markdown",
   "id": "2c5c8c1f",
   "metadata": {
    "slideshow": {
     "slide_type": "fragment"
    }
   },
   "source": [
    "As we noted last time, this number is *just slightly greater* than the observed OLR of 238.5 W m$^{-2}$."
   ]
  },
  {
   "cell_type": "markdown",
   "id": "cdb5fe23",
   "metadata": {
    "slideshow": {
     "slide_type": "slide"
    }
   },
   "source": [
    "____________\n",
    "<a id='section3'></a>\n",
    "\n",
    "## 3. Equilibrium temperature\n",
    "____________"
   ]
  },
  {
   "cell_type": "markdown",
   "id": "33ee43ea",
   "metadata": {},
   "source": [
    "*This is one of the central concepts in climate modeling.*\n",
    "\n",
    "The Earth system is in **energy balance** when energy in = energy out, i.e. when\n",
    "\n",
    "$$ \\text{ASR} = \\text{OLR} $$"
   ]
  },
  {
   "cell_type": "markdown",
   "id": "8ff91c90",
   "metadata": {
    "slideshow": {
     "slide_type": "fragment"
    }
   },
   "source": [
    "We want to know:\n",
    "\n",
    "- What surface temperature do we need to have this balance?\n",
    "- By how much would the temperature change in response to other changes in Earth system?\n",
    "    - Changes in greenhouse gases\n",
    "    - Changes in cloudiness\n",
    "    - etc."
   ]
  },
  {
   "cell_type": "markdown",
   "id": "862955d7",
   "metadata": {
    "slideshow": {
     "slide_type": "slide"
    }
   },
   "source": [
    "With our simple greenhouse model, we can get an **exact solution** for the equilibrium temperature.\n",
    "\n",
    "First, write down our statement of energy balance:\n",
    "\n",
    "$$ (1-\\alpha) Q = \\tau \\sigma T_s^4 $$"
   ]
  },
  {
   "cell_type": "markdown",
   "id": "d132f532",
   "metadata": {
    "slideshow": {
     "slide_type": "fragment"
    }
   },
   "source": [
    "Rearrange to solve for $T_s$:\n",
    "\n",
    "$$ T_s^4 = \\frac{(1-\\alpha) Q}{\\tau \\sigma} $$\n",
    "\n",
    "and take the fourth root, denoting our **equilibrium temperature** as $T_{eq}$:\n",
    "\n",
    "$$ T_{eq} = \\left( \\frac{(1-\\alpha) Q}{\\tau \\sigma} \\right)^\\frac{1}{4} $$"
   ]
  },
  {
   "cell_type": "markdown",
   "id": "9342fbaf",
   "metadata": {
    "slideshow": {
     "slide_type": "slide"
    }
   },
   "source": [
    "Plugging the observed values back in, we compute:"
   ]
  },
  {
   "cell_type": "code",
   "execution_count": null,
   "id": "cfd22029",
   "metadata": {},
   "outputs": [],
   "source": [
    "#  define a reusable function!\n",
    "def equilibrium_temperature(alpha,Q,tau):\n",
    "    return ((1-alpha)*Q/(tau*sigma))**(1/4)\n",
    "\n",
    "Teq_observed = equilibrium_temperature(alpha,Q,tau)\n",
    "print(Teq_observed)"
   ]
  },
  {
   "cell_type": "markdown",
   "id": "f3272d9b",
   "metadata": {
    "slideshow": {
     "slide_type": "fragment"
    }
   },
   "source": [
    "And this equilibrium temperature is *just slightly warmer* than 288 K.  Why?"
   ]
  },
  {
   "cell_type": "markdown",
   "id": "17234d15",
   "metadata": {
    "slideshow": {
     "slide_type": "slide"
    }
   },
   "source": [
    "____________\n",
    "## 4. A climate change scenario\n",
    "____________"
   ]
  },
  {
   "cell_type": "markdown",
   "id": "c4dd694b",
   "metadata": {
    "slideshow": {
     "slide_type": "slide"
    }
   },
   "source": [
    "Suppose that, due to global warming (changes in atmospheric composition and subsequent changes in cloudiness):\n",
    "\n",
    "- The longwave transmissitivity decreases to $\\tau = 0.57$ \n",
    "- The planetary albedo increases to $\\alpha = 0.32$\n",
    "\n",
    "What is the ***new equilibrium temperature***?"
   ]
  },
  {
   "cell_type": "markdown",
   "id": "7d8f88c1",
   "metadata": {
    "slideshow": {
     "slide_type": "fragment"
    }
   },
   "source": [
    "For this very simple model, we can work out the answer exactly:"
   ]
  },
  {
   "cell_type": "code",
   "execution_count": null,
   "id": "fca97155",
   "metadata": {},
   "outputs": [],
   "source": [
    "Teq_new = equilibrium_temperature(0.32,Q,0.57)\n",
    "#  an example of formatted print output, limiting to two or one decimal places\n",
    "print('The new equilibrium temperature is {:.2f} K.'.format(Teq_new))\n",
    "print('The equilibrium temperature increased by about {:.1f} K.'.format(Teq_new-Teq_observed))"
   ]
  },
  {
   "cell_type": "markdown",
   "id": "2ff72d85",
   "metadata": {
    "slideshow": {
     "slide_type": "slide"
    }
   },
   "source": [
    "Most climate models are more complicated mathematically, and solving directly for the equilibrium temperature will not be possible! \n",
    "\n",
    "Instead, we will be able to use the model to calculate the terms in the energy budget (ASR and OLR)."
   ]
  },
  {
   "cell_type": "markdown",
   "id": "229fc991",
   "metadata": {
    "slideshow": {
     "slide_type": "slide"
    }
   },
   "source": [
    "### Python exercise\n",
    "\n",
    "- Write Python functions to calculate ASR and OLR for *arbitrary parameter values*.\n",
    "- Verify the following:\n",
    "    - With the new parameter values but the old temperature $T = 288$ K, is ASR greater or lesser than OLR? \n",
    "    - Is the Earth gaining or losing energy?\n",
    "    - How does your answer change if $T = 295$ K (or any other temperature greater than 291 K)?"
   ]
  },
  {
   "cell_type": "code",
   "execution_count": null,
   "id": "97ef9d51",
   "metadata": {},
   "outputs": [],
   "source": []
  },
  {
   "cell_type": "markdown",
   "id": "561de644",
   "metadata": {
    "slideshow": {
     "slide_type": "slide"
    }
   },
   "source": [
    "____________\n",
    "\n",
    "## 5. A time-dependent Energy Balance Model\n",
    "____________"
   ]
  },
  {
   "cell_type": "markdown",
   "id": "3147d1f6",
   "metadata": {},
   "source": [
    "The above exercise shows us that if some properties of the climate system change in such a way that the **equilibrium temperature goes up**, then the Earth system *receives more energy from the sun than it is losing to space*. The system is **no longer in energy balance**.\n",
    "\n",
    "The temperature must then increase to get back into balance. The increase will not happen all at once! It will take time for energy to accumulate in the climate system. We want to model this **time-dependent adjustment** of the system.\n",
    "\n",
    "In fact almost all climate models are **time-dependent**, meaning the model calculates **time derivatives** (rates of change) of climate variables."
   ]
  },
  {
   "cell_type": "markdown",
   "id": "5f31bcdc",
   "metadata": {
    "slideshow": {
     "slide_type": "slide"
    }
   },
   "source": [
    "### An energy balance **equation**\n",
    "\n",
    "We will write the **total energy budget** of the Earth system as\n",
    "\n",
    "$$\n",
    "\\begin{align} \n",
    " \\frac{dE}{dt} &= \\text{net energy flux in to system} \\\\\n",
    " &= \\text{flux in – flux out} \\\\\n",
    " &= \\text{ASR} - \\text{OLR}\n",
    "\\end{align}\n",
    "$$\n",
    "\n",
    "where $E$ is the **enthalpy** or **heat content** of the total system.\n",
    "\n",
    "We will express the budget **per unit surface area**, so each term above has units W m$^{-2}$\n",
    "\n",
    "Note: any **internal exchanges** of energy between different reservoirs (e.g. between ocean, land, ice, atmosphere) do not appear in this budget – because $E$ is the **sum of all reservoirs**.\n",
    "\n",
    "Also note: **This is a generically true statement.** We have just defined some terms, and made the (very good) assumption that the only significant energy sources are radiative exchanges with space."
   ]
  },
  {
   "cell_type": "markdown",
   "id": "c7b837df",
   "metadata": {},
   "source": [
    "**This equation is the starting point for EVERY CLIMATE MODEL.**\n",
    "\n",
    "But so far, we don’t actually have a MODEL. We just have a statement of a budget. To use this budget to make a model, we need to relate terms in the budget to state variables of the atmosphere-ocean system.\n",
    "\n",
    "For now, the state variable we are most interested in is **temperature** – because it is directly connected to the physics of each term above."
   ]
  },
  {
   "cell_type": "markdown",
   "id": "d588e58a",
   "metadata": {},
   "source": [
    "### An energy balance **model**\n",
    "\n",
    "If we now suppose that \n",
    "\n",
    "$$ E = C T_s $$\n",
    "\n",
    "where $T_s$ is the **global mean surface temperature**, and $C$ is a constant – the **effective heat capacity** of the atmosphere- ocean column.\n",
    "\n",
    "then our budget equation becomes:"
   ]
  },
  {
   "cell_type": "markdown",
   "id": "33405218",
   "metadata": {},
   "source": [
    "$$ C \\frac{dT_s}{dt} = \\text{ASR} - \\text{OLR} $$"
   ]
  },
  {
   "cell_type": "markdown",
   "id": "adae3b4b",
   "metadata": {},
   "source": [
    "where\n",
    "\n",
    "- $C$ is the **heat capacity** of Earth system, in units of J m$^{-2}$ K$^{-1}$.\n",
    "- $\\frac{dT_s}{dt}$ is the rate of change of global average surface temperature."
   ]
  },
  {
   "cell_type": "markdown",
   "id": "c3100d9f",
   "metadata": {
    "slideshow": {
     "slide_type": "slide"
    }
   },
   "source": [
    "By adopting this equation, we are assuming that the energy content of the Earth system (atmosphere, ocean, ice, etc.) is *proportional to surface temperature*.\n",
    "\n",
    "Important things to think about:\n",
    "\n",
    "- Why is this a sensible assumption?\n",
    "- What determines the heat capacity $C$?\n",
    "- What are some limitations of this assumption?"
   ]
  },
  {
   "cell_type": "markdown",
   "id": "7dc76b75",
   "metadata": {
    "slideshow": {
     "slide_type": "slide"
    }
   },
   "source": [
    "For our purposes here we are going to use a value of C equivalent to heating 100 meters of water:\n",
    "\n",
    "$$C = c_w \\rho_w H$$\n",
    "\n",
    "where \n",
    "\n",
    "$c_w = 4 \\times 10^3$ J kg$^{-1}$ $^\\circ$C$^{-1}$ is the specific heat of water,\n",
    "\n",
    "$\\rho_w = 10^3$ kg m$^{-3}$ is the density of water, and\n",
    "\n",
    "$H$ is an effective depth of water that is heated or cooled."
   ]
  },
  {
   "cell_type": "code",
   "execution_count": null,
   "id": "fb6fef15",
   "metadata": {},
   "outputs": [],
   "source": [
    "c_w = 4E3  #  Specific heat of water in J/kg/K\n",
    "rho_w = 1E3  #  Density of water in kg/m3\n",
    "H = 100.   #  Depth of water in m\n",
    "C = c_w * rho_w * H   #  Heat capacity of the model \n",
    "print('The effective heat capacity is {:.1e} J/m2/K'.format(C))"
   ]
  },
  {
   "cell_type": "markdown",
   "id": "efdac7a7",
   "metadata": {
    "slideshow": {
     "slide_type": "slide"
    }
   },
   "source": [
    "### Solving the energy balance model\n",
    "\n",
    "This is a first-order Ordinary Differential Equation (ODE) for $T_s$ as a function of time. It is also **our very first climate model!**\n",
    "\n",
    "To solve it (i.e. see how $T_s$ evolves from some specified initial condition) we have two choices:\n",
    "\n",
    "1. Solve it analytically\n",
    "2. Solve it numerically"
   ]
  },
  {
   "cell_type": "markdown",
   "id": "41b0095b",
   "metadata": {
    "slideshow": {
     "slide_type": "slide"
    }
   },
   "source": [
    "Option 1 (analytical) will usually not be possible because the equations will typically be too complex and non-linear. This is why computers are our best friends in the world of climate modeling.\n",
    "\n",
    "HOWEVER it is often useful and instructive to simplify a model down to something that is analytically solvable when possible. Why? Two reasons:\n",
    "\n",
    "1. Analysis will often yield a deeper understanding of the behavior of the system\n",
    "2. Gives us a benchmark against which to test the results of our numerical solutions."
   ]
  },
  {
   "cell_type": "markdown",
   "id": "8715d042",
   "metadata": {
    "slideshow": {
     "slide_type": "slide"
    }
   },
   "source": [
    "____________\n",
    "\n",
    "## 6. Representing time derivatives on a computer\n",
    "____________"
   ]
  },
  {
   "cell_type": "markdown",
   "id": "ec3df424",
   "metadata": {},
   "source": [
    "Recall that the derivative is the **instantaneous rate of change**. It is defined as \n",
    "\n",
    "$$ \\frac{dT}{dt} = \\lim_{\\Delta t\\rightarrow 0}⁡ \\frac{\\Delta T}{\\Delta t}$$\n",
    "\n",
    "- **On the computer there is no such thing as an instantaneous change.** \n",
    "- We are always dealing with *discrete quantities*.\n",
    "- So we approximate the derivative with $\\Delta T/ \\Delta t$. \n",
    "- So long as we take the time interval $\\Delta t$ \"small enough\", the approximation is valid and useful.\n",
    "- (The meaning of \"small enough\" varies widely in practice. Let's not talk about it now)"
   ]
  },
  {
   "cell_type": "markdown",
   "id": "d83bbf5c",
   "metadata": {
    "slideshow": {
     "slide_type": "slide"
    }
   },
   "source": [
    "So we write our model as\n",
    "\n",
    "$$ C  \\frac{\\Delta T}{\\Delta t} \\approx \\text{ASR} - \\text{OLR}$$\n",
    "\n",
    "where $\\Delta T$ is the **change in temperature predicted by our model** over a short time interval $\\Delta t$."
   ]
  },
  {
   "cell_type": "markdown",
   "id": "a7730482",
   "metadata": {},
   "source": [
    "We can now use this to **make a prediction**: \n",
    "\n",
    "Given a current temperature $T_1$ at time $t_1$, what is the temperature $T_2$ at a future time $t_2$?"
   ]
  },
  {
   "cell_type": "markdown",
   "id": "18c4246d",
   "metadata": {
    "slideshow": {
     "slide_type": "slide"
    }
   },
   "source": [
    "We can write\n",
    "\n",
    "$$ \\Delta T = T_2-T_1 $$\n",
    "$$ \\Delta t = t_2-t_1 $$\n",
    "\n",
    "and so our model says\n",
    "\n",
    "$$ C  \\frac{T_2-T_1}{\\Delta t} = \\text{ASR} - \\text{OLR} $$\n",
    "\n",
    "Which we can rearrange to **solve for the future temperature**:\n",
    "\n",
    "$$ T_2 = T_1 + \\frac{\\Delta t}{C} \\left( \\text{ASR} - \\text{OLR}(T_1) \\right)  $$\n",
    "\n",
    "We now have a formula with which to make our prediction!\n",
    "\n",
    "Notice that we have written the OLR as a *function of temperature*. We will use the current temperature $T_1$ to compute the OLR, and use that OLR to determine the future temperature."
   ]
  },
  {
   "cell_type": "markdown",
   "id": "a4bf4bcc",
   "metadata": {
    "slideshow": {
     "slide_type": "slide"
    }
   },
   "source": [
    "____________\n",
    "\n",
    "## 7. Numerical solution of the Energy Balance Model\n",
    "____________"
   ]
  },
  {
   "cell_type": "markdown",
   "id": "2ab103c5",
   "metadata": {},
   "source": [
    "The quantity $\\Delta t$ is called a **timestep**. It is the smallest time interval represented in our model.\n",
    "\n",
    "Here we're going to use a timestep of 1 year:"
   ]
  },
  {
   "cell_type": "code",
   "execution_count": null,
   "id": "5eed4dcb",
   "metadata": {},
   "outputs": [],
   "source": [
    "dt = 60. * 60. * 24. * 365.   # one year expressed in seconds"
   ]
  },
  {
   "cell_type": "code",
   "execution_count": null,
   "id": "7c0ce4f5",
   "metadata": {
    "slideshow": {
     "slide_type": "slide"
    }
   },
   "outputs": [],
   "source": [
    "# Try a single timestep, assuming we have working functions for ASR and OLR\n",
    "T1 = 288.\n",
    "T2 = T1 + dt / C * ( ASR(alpha=0.32) - OLR(T1, tau=0.57) )\n",
    "print(T2)"
   ]
  },
  {
   "cell_type": "markdown",
   "id": "03df8881",
   "metadata": {},
   "source": [
    "What happened? Why?"
   ]
  },
  {
   "cell_type": "markdown",
   "id": "689c0754",
   "metadata": {
    "slideshow": {
     "slide_type": "slide"
    }
   },
   "source": [
    "Try another timestep"
   ]
  },
  {
   "cell_type": "code",
   "execution_count": null,
   "id": "69102801",
   "metadata": {},
   "outputs": [],
   "source": [
    "T1 = T2\n",
    "T2 = T1 + dt / C * ( ASR(alpha=0.32) - OLR(T1, tau=0.57) )\n",
    "print(T2)"
   ]
  },
  {
   "cell_type": "markdown",
   "id": "c282710d",
   "metadata": {},
   "source": [
    "Warmed up again, but by a smaller amount."
   ]
  },
  {
   "cell_type": "markdown",
   "id": "a983c966",
   "metadata": {
    "slideshow": {
     "slide_type": "slide"
    }
   },
   "source": [
    "But this is tedious typing. Time to **define a function** to make things easier and more reliable:"
   ]
  },
  {
   "cell_type": "code",
   "execution_count": null,
   "id": "b0a39a67",
   "metadata": {},
   "outputs": [],
   "source": [
    "def step_forward(T):\n",
    "    return T + dt / C * ( ASR(alpha=0.32) - OLR(T, tau=0.57) )"
   ]
  },
  {
   "cell_type": "markdown",
   "id": "16b58f74",
   "metadata": {
    "slideshow": {
     "slide_type": "slide"
    }
   },
   "source": [
    "Try it out with an arbitrary temperature:"
   ]
  },
  {
   "cell_type": "code",
   "execution_count": null,
   "id": "f15fe645",
   "metadata": {},
   "outputs": [],
   "source": [
    "step_forward(300.)"
   ]
  },
  {
   "cell_type": "markdown",
   "id": "03a26bcc",
   "metadata": {},
   "source": [
    "Notice that our function calls other functions and variables we have already defined."
   ]
  },
  {
   "cell_type": "markdown",
   "id": "5849351a",
   "metadata": {
    "slideshow": {
     "slide_type": "slide"
    }
   },
   "source": [
    "#### Python fact 10: Functions can access variables and other functions defined outside of the function. \n",
    "\n",
    "This is both very useful and occasionally confusing."
   ]
  },
  {
   "cell_type": "markdown",
   "id": "dd93aabb",
   "metadata": {
    "slideshow": {
     "slide_type": "slide"
    }
   },
   "source": [
    "Now let's really harness the power of the computer by **making a loop** (and storing values in arrays):"
   ]
  },
  {
   "cell_type": "code",
   "execution_count": null,
   "id": "4e75a238",
   "metadata": {},
   "outputs": [],
   "source": [
    "import numpy as np\n",
    "\n",
    "numsteps = 20\n",
    "Tsteps = np.zeros(numsteps+1)\n",
    "Years = np.zeros(numsteps+1)\n",
    "Tsteps[0] = 288. \n",
    "for n in range(numsteps):\n",
    "    Years[n+1] = n+1\n",
    "    Tsteps[n+1] = step_forward( Tsteps[n] )\n",
    "print(Tsteps)"
   ]
  },
  {
   "cell_type": "markdown",
   "id": "739bdfce",
   "metadata": {},
   "source": [
    "What did we just do?\n",
    "\n",
    "- Created an array of zeros\n",
    "- set the initial temperature to 288 K\n",
    "- repeated our time step 20 times. \n",
    "- Stored the results of each time step into the array."
   ]
  },
  {
   "cell_type": "markdown",
   "id": "ac8595d4",
   "metadata": {
    "slideshow": {
     "slide_type": "slide"
    }
   },
   "source": [
    "#### Python fact 11: the `for` statement executes a statement (or series of statements) a specified number of times (a loop!)"
   ]
  },
  {
   "cell_type": "markdown",
   "id": "13e685cd",
   "metadata": {
    "slideshow": {
     "slide_type": "slide"
    }
   },
   "source": [
    "#### Python fact 12: Use square bracket [ ] to refer to elements of an array or list. Use round parentheses ( ) for function arguments."
   ]
  },
  {
   "cell_type": "markdown",
   "id": "376820f0",
   "metadata": {
    "slideshow": {
     "slide_type": "slide"
    }
   },
   "source": [
    "### Plotting the result\n",
    "\n",
    "Now let's draw a picture of our result!"
   ]
  },
  {
   "cell_type": "code",
   "execution_count": null,
   "id": "7c6bff5f",
   "metadata": {},
   "outputs": [],
   "source": [
    "# a special instruction for the Jupyter notebook\n",
    "#   Display all plots inline in the notebook\n",
    "%matplotlib inline  \n",
    "#  import the plotting package\n",
    "import matplotlib.pyplot as plt"
   ]
  },
  {
   "cell_type": "code",
   "execution_count": null,
   "id": "430701f0",
   "metadata": {},
   "outputs": [],
   "source": [
    "plt.plot(Years, Tsteps)\n",
    "plt.xlabel('Years')\n",
    "plt.ylabel('Global mean temperature (K)');"
   ]
  },
  {
   "cell_type": "markdown",
   "id": "ef13f65b",
   "metadata": {
    "slideshow": {
     "slide_type": "slide"
    }
   },
   "source": [
    "Note how the temperature *adjusts smoothly toward the equilibrium temperature*, that is, the temperature at which\n",
    "ASR = OLR.\n",
    "\n",
    "**If the planetary energy budget is out of balance, the temperature must change so that the OLR gets closer to the ASR!**\n",
    "\n",
    "The adjustment is actually an *exponential decay* process: The rate of adjustment slows as the temperature approaches equilibrium. \n",
    "\n",
    "The temperature gets very very close to equilibrium but never reaches it exactly."
   ]
  },
  {
   "cell_type": "markdown",
   "id": "06e081e7",
   "metadata": {
    "slideshow": {
     "slide_type": "slide"
    }
   },
   "source": [
    "#### Python fact 13: We can easily make simple graphs with the function `plt.plot(x,y)`, where `x` and `y` are arrays of the same size. But we must import it first. \n",
    "\n",
    "This is actually not native Python, but uses a graphics library called [matplotlib](https://matplotlib.org). This is the workhorse of scientific plotting in Python, and we will be using it all the time!\n",
    "\n",
    "Just about all of our notebooks will start with this:\n",
    "```\n",
    "%matplotlib inline\n",
    "import numpy as np\n",
    "import matplotlib.pyplot as plt\n",
    "```"
   ]
  },
  {
   "cell_type": "code",
   "execution_count": null,
   "id": "2635bcff",
   "metadata": {},
   "outputs": [],
   "source": []
  },
  {
   "cell_type": "markdown",
   "id": "1de809f3",
   "metadata": {},
   "source": [
    "____________\n",
    "## 8. Summary and take-away messages\n",
    "____________"
   ]
  },
  {
   "cell_type": "markdown",
   "id": "83d0b803",
   "metadata": {
    "slideshow": {
     "slide_type": "slide"
    }
   },
   "source": [
    "- We looked at the flows of energy in and out of the Earth system. \n",
    "- These are determined by radiation at the top of the Earth's atmosphere.\n",
    "- Any imbalance between shortwave absorption (ASR) and longwave emission (OLR) drives a change in temperature\n",
    "- Using this idea, we built a climate model!\n",
    "- This **Zero-Dimensional Energy Balance Model** solves for the global, annual mean surface temperature $T_s$\n",
    "- Two key assumptions:\n",
    "    - Energy content of the Earth system varies proportionally to $T_s$\n",
    "    - The OLR increases as $\\tau \\sigma T_s^4$ (our simple greenhouse model)\n",
    "- Earth (or any planet) has a well-defined **equilibrium temperature** $T_{eq}$ at which ASR = OLR, because of the *temperature dependence of the outgoing longwave radiation*.\n",
    "\n",
    "- If $T_s < T_{eq}$, the model will warm up.\n",
    "- We can represent the continous warming process on the computer using discrete timesteps.\n",
    "- We can plot the result."
   ]
  },
  {
   "cell_type": "markdown",
   "id": "69f6aad0",
   "metadata": {
    "slideshow": {
     "slide_type": "skip"
    }
   },
   "source": [
    "____________\n",
    "\n",
    "## Credits\n",
    "\n",
    "This notebook is part of [The Climate Laboratory](https://brian-rose.github.io/ClimateLaboratoryBook), an open-source textbook developed and maintained by [Brian E. J. Rose](http://www.atmos.albany.edu/facstaff/brose/index.html), University at Albany.\n",
    "\n",
    "It is licensed for free and open consumption under the\n",
    "[Creative Commons Attribution 4.0 International (CC BY 4.0)](https://creativecommons.org/licenses/by/4.0/) license.\n",
    "\n",
    "Development of these notes and the [climlab software](https://github.com/brian-rose/climlab) is partially supported by the National Science Foundation under award AGS-1455071 to Brian Rose. Any opinions, findings, conclusions or recommendations expressed here are mine and do not necessarily reflect the views of the National Science Foundation.\n",
    "____________"
   ]
  },
  {
   "cell_type": "code",
   "execution_count": null,
   "id": "a3090ee5",
   "metadata": {},
   "outputs": [],
   "source": []
  },
  {
   "cell_type": "markdown",
   "id": "4d5f89ef",
   "metadata": {},
   "source": [
    "```{toctree}\n",
    ":hidden:\n",
    ":titlesonly:\n",
    "\n",
    "\n",
    "analytical-efolding.md\n",
    "```"
   ]
  }
 ],
 "metadata": {
  "jupytext": {
   "text_representation": {
    "extension": ".md",
    "format_name": "myst",
    "format_version": 0.12,
    "jupytext_version": "1.6.0"
   }
  },
  "kernelspec": {
   "display_name": "Python 3",
   "language": "python",
   "name": "python3"
  },
  "source_map": [
   14,
   23,
   31,
   35,
   39,
   47,
   57,
   63,
   71,
   75,
   81,
   89,
   93,
   101,
   105,
   114,
   119,
   123,
   133,
   137,
   142,
   146,
   154,
   162,
   174,
   182,
   192,
   196,
   205,
   209,
   215,
   224,
   228,
   235,
   241,
   251,
   255,
   262,
   270,
   292,
   301,
   313,
   318,
   325,
   335,
   349,
   357,
   368,
   377,
   384,
   396,
   404,
   410,
   429,
   436,
   442,
   446,
   455,
   459,
   463,
   467,
   471,
   475,
   480,
   484,
   486,
   490,
   496,
   500,
   511,
   520,
   524,
   528,
   534,
   542,
   548,
   559,
   572,
   574,
   580,
   596,
   610,
   612
  ]
 },
 "nbformat": 4,
 "nbformat_minor": 5
}